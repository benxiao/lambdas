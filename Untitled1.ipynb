{
 "cells": [
  {
   "cell_type": "code",
   "execution_count": 19,
   "metadata": {},
   "outputs": [],
   "source": [
    "from collections import deque\n",
    "from typing import *\n",
    "import cv2\n",
    "import numpy as np\n",
    "import matplotlib.pyplot as plt\n",
    "import numba as nb\n",
    "\n",
    "Point = Tuple[int, int]\n",
    "TopLeft, BottomRight = Point, Point\n",
    "Square = np.ndarray\n",
    "Dimension = Tuple[int, int]\n",
    "BoundingBox = Tuple[TopLeft, BottomRight]\n",
    "X, Y = 0, 1\n",
    "\n",
    "\n",
    "def bfs(square: Square, start: Point, threshold) -> List[Point]:\n",
    "    l, w = square.shape\n",
    "    q: deque[Point] = deque()\n",
    "    q.append(start)\n",
    "    seen = {start}\n",
    "    lst = []\n",
    "    while q:\n",
    "        x, y = q.popleft()\n",
    "        lst.append((x, y))\n",
    "        # up\n",
    "        if (x - 1 >= 0) and square[x - 1, y] > threshold:\n",
    "            if (x - 1, y) not in seen:\n",
    "                q.append((x - 1, y))\n",
    "                seen.add((x - 1, y))\n",
    "        # bottom\n",
    "        if (x + 1 < l) and square[x + 1, y] > threshold:\n",
    "            if (x + 1, y) not in seen:\n",
    "                q.append((x + 1, y))\n",
    "                seen.add((x + 1, y))\n",
    "        # left\n",
    "        if (y - 1 >= 0) and square[x, y - 1] > threshold:\n",
    "            if (x, y - 1) not in seen:\n",
    "                q.append((x, y - 1))\n",
    "                seen.add((x, y - 1))\n",
    "        # right\n",
    "        if (y + 1 < w) and square[x, y + 1] > threshold:\n",
    "            if (x, y + 1) not in seen:\n",
    "                q.append((x, y + 1))\n",
    "                seen.add((x, y + 1))\n",
    "    return lst\n",
    "\n",
    "\n",
    "def bbox(lp: List[Point]) -> BoundingBox:\n",
    "    initial_x, initial_y = lp[0][X], lp[0][Y]\n",
    "    min_x, max_x = initial_x, initial_x\n",
    "    min_y, max_y = initial_y, initial_y\n",
    "    for x, y in lp:\n",
    "        if min_x > x:\n",
    "            min_x = x\n",
    "        if max_x < x:\n",
    "            max_x = x\n",
    "        if min_y > y:\n",
    "            min_y = y\n",
    "        if max_y < y:\n",
    "            max_y = y\n",
    "    return (min_y, min_x), (max_y, max_x)\n",
    "\n",
    "\n",
    "def bboxes(square: Square, threshold=200) -> List[BoundingBox]:\n",
    "    l, w = square.shape\n",
    "    candidates = []\n",
    "    for i in range(l):\n",
    "        for j in range(w):\n",
    "            if square[i, j] > 200:\n",
    "                candidates.append((i, j))\n",
    "\n",
    "    lst = []\n",
    "    while candidates:\n",
    "        p = candidates.pop()\n",
    "        lp = bfs(square, p, threshold=threshold)\n",
    "        lst.append(bbox(lp))\n",
    "        for p in lp:\n",
    "            if p in candidates:\n",
    "                candidates.remove(p)\n",
    "    return lst\n",
    "\n",
    "\n",
    "def bbox_area(b: BoundingBox):\n",
    "    topleft, bottomright = b\n",
    "    return (bottomright[0] - topleft[0]) * (bottomright[1] - topleft[1])\n",
    "\n",
    "\n",
    "def bbox_filter_size(bs: List[BoundingBox], minimum_size=10):\n",
    "    return [b for b in bs if bbox_area(b) > minimum_size]\n",
    "\n",
    "\n",
    "def bbox_overlap(b0: BoundingBox, b1: BoundingBox)->bool:\n",
    "    # we will always keep b0 on the \n",
    "    \n",
    "    \n",
    "    "
   ]
  },
  {
   "cell_type": "code",
   "execution_count": 21,
   "metadata": {},
   "outputs": [
    {
     "data": {
      "text/plain": [
       "<matplotlib.image.AxesImage at 0x7f4f802c9bd0>"
      ]
     },
     "execution_count": 21,
     "metadata": {},
     "output_type": "execute_result"
    },
    {
     "data": {
      "image/png": "[encoded data removed]",
      "text/plain": [
       "<Figure size 432x288 with 1 Axes>"
      ]
     },
     "metadata": {
      "needs_background": "light"
     },
     "output_type": "display_data"
    }
   ],
   "source": [
    "# print(bfs(square, (5,5), (0, 2)))\n",
    "img = cv2.imread(\"gray.jpg\")\n",
    "gray_img = cv2.cvtColor(img, cv2.COLOR_RGB2GRAY)\n",
    "bs = bboxes(gray_img)\n",
    "bs = bbox_filter_size(bs, minimum_size=20)\n",
    "for b in bs:\n",
    "    cv2.rectangle(img, *b, (255, 0, 0), 1)\n",
    "plt.imshow(img)"
   ]
  },
  {
   "cell_type": "code",
   "execution_count": 11,
   "metadata": {},
   "outputs": [
    {
     "name": "stdout",
     "output_type": "stream",
     "text": [
      "115 ms ± 746 µs per loop (mean ± std. dev. of 7 runs, 10 loops each)\n"
     ]
    }
   ],
   "source": [
    "%timeit bboxes(gray_img, gray_img.shape)"
   ]
  },
  {
   "cell_type": "code",
   "execution_count": null,
   "metadata": {},
   "outputs": [],
   "source": []
  }
 ],
 "metadata": {},
 "nbformat": 4,
 "nbformat_minor": 2
}
